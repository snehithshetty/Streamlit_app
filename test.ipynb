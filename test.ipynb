{
 "cells": [
  {
   "cell_type": "code",
   "execution_count": 2,
   "id": "72e0d4a8",
   "metadata": {},
   "outputs": [
    {
     "ename": "ModuleNotFoundError",
     "evalue": "No module named 'streamlit'",
     "output_type": "error",
     "traceback": [
      "\u001b[1;31m---------------------------------------------------------------------------\u001b[0m",
      "\u001b[1;31mModuleNotFoundError\u001b[0m                       Traceback (most recent call last)",
      "\u001b[1;32m~\\AppData\\Local\\Temp\\ipykernel_536\\3553235385.py\u001b[0m in \u001b[0;36m<module>\u001b[1;34m\u001b[0m\n\u001b[1;32m----> 1\u001b[1;33m \u001b[1;32mimport\u001b[0m \u001b[0mstreamlit\u001b[0m \u001b[1;32mas\u001b[0m \u001b[0mst\u001b[0m\u001b[1;33m\u001b[0m\u001b[1;33m\u001b[0m\u001b[0m\n\u001b[0m\u001b[0;32m      2\u001b[0m \u001b[1;32mimport\u001b[0m \u001b[0msnowflake\u001b[0m\u001b[1;33m.\u001b[0m\u001b[0mconnector\u001b[0m\u001b[1;33m\u001b[0m\u001b[1;33m\u001b[0m\u001b[0m\n\u001b[0;32m      3\u001b[0m \u001b[1;33m\u001b[0m\u001b[0m\n\u001b[0;32m      4\u001b[0m \u001b[1;31m# Initialize connection.\u001b[0m\u001b[1;33m\u001b[0m\u001b[1;33m\u001b[0m\u001b[0m\n\u001b[0;32m      5\u001b[0m \u001b[1;31m# Uses st.experimental_singleton to only run once.\u001b[0m\u001b[1;33m\u001b[0m\u001b[1;33m\u001b[0m\u001b[0m\n",
      "\u001b[1;31mModuleNotFoundError\u001b[0m: No module named 'streamlit'"
     ]
    }
   ],
   "source": [
    "import streamlit as st\n",
    "import snowflake.connector\n",
    "\n",
    "# Initialize connection.\n",
    "# Uses st.experimental_singleton to only run once.\n",
    "@st.experimental_singleton\n",
    "def init_connection():\n",
    "    return snowflake.connector.connect(\n",
    "        **st.secrets[\"snowflake\"], client_session_keep_alive=True\n",
    "    )\n",
    "\n",
    "conn = init_connection()\n",
    "\n",
    "# Perform query.\n",
    "# Uses st.experimental_memo to only rerun when the query changes or after 10 min.\n",
    "@st.experimental_memo(ttl=600)\n",
    "def run_query(query):\n",
    "    with conn.cursor() as cur:\n",
    "        cur.execute(query)\n",
    "        return cur.fetchall()\n",
    "\n",
    "rows = run_query(\"SELECT * FROM RFM_Clusters LIMIT 10;\")\n",
    "\n",
    "# Print results.\n",
    "for row in rows:\n",
    "    st.write(f\"{row[0]} has a :{row[1]}:\")\n"
   ]
  },
  {
   "cell_type": "code",
   "execution_count": null,
   "id": "26b72ec8",
   "metadata": {},
   "outputs": [],
   "source": []
  }
 ],
 "metadata": {
  "kernelspec": {
   "display_name": "Python 3 (ipykernel)",
   "language": "python",
   "name": "python3"
  },
  "language_info": {
   "codemirror_mode": {
    "name": "ipython",
    "version": 3
   },
   "file_extension": ".py",
   "mimetype": "text/x-python",
   "name": "python",
   "nbconvert_exporter": "python",
   "pygments_lexer": "ipython3",
   "version": "3.9.13"
  }
 },
 "nbformat": 4,
 "nbformat_minor": 5
}
